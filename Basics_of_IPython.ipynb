{
  "nbformat": 4,
  "nbformat_minor": 0,
  "metadata": {
    "colab": {
      "name": "Basics of IPython.ipynb",
      "provenance": [],
      "authorship_tag": "ABX9TyM+I1B+dn9CIgWcF+aHn49Y",
      "include_colab_link": true
    },
    "kernelspec": {
      "name": "python3",
      "display_name": "Python 3"
    },
    "language_info": {
      "name": "python"
    }
  },
  "cells": [
    {
      "cell_type": "markdown",
      "metadata": {
        "id": "view-in-github",
        "colab_type": "text"
      },
      "source": [
        "<a href=\"https://colab.research.google.com/github/KiriltsevDaniil/ML-DS-AI-2021-/blob/main/Basics_of_IPython.ipynb\" target=\"_parent\"><img src=\"https://colab.research.google.com/assets/colab-badge.svg\" alt=\"Open In Colab\"/></a>"
      ]
    },
    {
      "cell_type": "markdown",
      "metadata": {
        "id": "7kSYRlJ-JfWH"
      },
      "source": [
        " In this notebook IPythons's opportunities will be adressed"
      ]
    },
    {
      "cell_type": "code",
      "metadata": {
        "id": "KdUm_kM8I04A"
      },
      "source": [
        "help(len) # We can find out info about commands using help() func, due to Python's documentation string, which every object has."
      ],
      "execution_count": null,
      "outputs": []
    },
    {
      "cell_type": "code",
      "metadata": {
        "id": "gKszC0W_LGUV"
      },
      "source": [
        "?len # As it's a very popular func, IPython has an alias ? for it."
      ],
      "execution_count": null,
      "outputs": []
    },
    {
      "cell_type": "code",
      "metadata": {
        "id": "IhuGedVvMH_n"
      },
      "source": [
        "# We can add a docstring to a cusom function using string literal like this:\n",
        "def cube(a):\n",
        "    \"\"\"This func returns the square of a\"\"\"\n",
        "    return a ** 3"
      ],
      "execution_count": null,
      "outputs": []
    },
    {
      "cell_type": "code",
      "metadata": {
        "id": "C0QGrMTmMuko"
      },
      "source": [
        "?cube"
      ],
      "execution_count": null,
      "outputs": []
    },
    {
      "cell_type": "code",
      "metadata": {
        "id": "3Ib8O6KmM65A"
      },
      "source": [
        "# We also can have an access to an source code due to ??.\n",
        "??cube\n",
        "# BTW if ?? does the same thing as ? it means that source code was written using by C or other translation extention languge."
      ],
      "execution_count": null,
      "outputs": []
    },
    {
      "cell_type": "code",
      "metadata": {
        "id": "HyW7xQNQOBrA"
      },
      "source": [
        "# You also can find out about fetures like: tab-autocomplete and asterisk/joker_symbol"
      ],
      "execution_count": null,
      "outputs": []
    },
    {
      "cell_type": "code",
      "metadata": {
        "id": "WB_YH9fLo5cu"
      },
      "source": [
        ">>> def donothing(x):\n",
        "    return x\n",
        "##"
      ],
      "execution_count": 10,
      "outputs": []
    },
    {
      "cell_type": "code",
      "metadata": {
        "id": "IjF4u8JmpnUZ"
      },
      "source": [
        "%cpaste #btw this magick command doesn't work in collab, like tab-autocomplete and asterisk/joker_symbol. they work only in IPython console"
      ],
      "execution_count": null,
      "outputs": []
    },
    {
      "cell_type": "code",
      "metadata": {
        "id": "fUo8QSp2ukNu"
      },
      "source": [
        "%timeit l = [x for x in range(51)] #we can use %timeit for one-liner to check the time that computation takes. it will be calculated several times,\n",
        " #magick command and show us the the best of x timing. "
      ],
      "execution_count": null,
      "outputs": []
    },
    {
      "cell_type": "code",
      "metadata": {
        "id": "BO_NXBahvhJx"
      },
      "source": [
        "%%timeit\n",
        "l = []\n",
        "for i in range(51):\n",
        "    l.append(i) #same as timeit, but for multi-line input()"
      ],
      "execution_count": null,
      "outputs": []
    },
    {
      "cell_type": "code",
      "metadata": {
        "id": "hs6_9a-kw-O2"
      },
      "source": [
        "?%timeit"
      ],
      "execution_count": 24,
      "outputs": []
    },
    {
      "cell_type": "code",
      "metadata": {
        "id": "sdKPy6hEx4yT"
      },
      "source": [
        "%magic"
      ],
      "execution_count": 26,
      "outputs": []
    },
    {
      "cell_type": "code",
      "metadata": {
        "id": "-Pdz7HBdyMYf"
      },
      "source": [
        "%lsmagic"
      ],
      "execution_count": null,
      "outputs": []
    },
    {
      "cell_type": "markdown",
      "metadata": {
        "id": "uPtGo5I6y6kJ"
      },
      "source": [
        "Finally, I'll mention that it is quite straightforward to define your own magic functions if you wish. We won't discuss it here, but if you are interested, see the references listed in [More IPython Resources](https://colab.research.google.com/github/jakevdp/PythonDataScienceHandbook/blob/master/notebooks/01.08-More-IPython-Resources.ipynb)."
      ]
    }
  ]
}